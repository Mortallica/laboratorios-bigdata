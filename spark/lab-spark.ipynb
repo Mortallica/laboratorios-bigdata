{
 "cells": [
  {
   "cell_type": "code",
   "execution_count": 25,
   "metadata": {},
   "outputs": [
    {
     "data": {
      "application/vnd.jupyter.widget-view+json": {
       "model_id": "d0403321e29a440896c271af32b635e9",
       "version_major": 2,
       "version_minor": 0
      },
      "text/plain": [
       "VBox()"
      ]
     },
     "metadata": {},
     "output_type": "display_data"
    },
    {
     "data": {
      "application/vnd.jupyter.widget-view+json": {
       "model_id": "",
       "version_major": 2,
       "version_minor": 0
      },
      "text/plain": [
       "FloatProgress(value=0.0, bar_style='info', description='Progress:', layout=Layout(height='25px', width='50%'),…"
      ]
     },
     "metadata": {},
     "output_type": "display_data"
    }
   ],
   "source": [
    "from pyspark.sql import SparkSession\n",
    "from pyspark.sql.functions import lit"
   ]
  },
  {
   "cell_type": "code",
   "execution_count": 14,
   "metadata": {},
   "outputs": [
    {
     "data": {
      "application/vnd.jupyter.widget-view+json": {
       "model_id": "66ad91391620483ab3cd1ea121c55ee4",
       "version_major": 2,
       "version_minor": 0
      },
      "text/plain": [
       "VBox()"
      ]
     },
     "metadata": {},
     "output_type": "display_data"
    },
    {
     "data": {
      "application/vnd.jupyter.widget-view+json": {
       "model_id": "",
       "version_major": 2,
       "version_minor": 0
      },
      "text/plain": [
       "FloatProgress(value=0.0, bar_style='info', description='Progress:', layout=Layout(height='25px', width='50%'),…"
      ]
     },
     "metadata": {},
     "output_type": "display_data"
    }
   ],
   "source": [
    "spark=SparkSession.builder.appName('data_processing').getOrCreate()"
   ]
  },
  {
   "cell_type": "code",
   "execution_count": 15,
   "metadata": {
    "scrolled": true
   },
   "outputs": [
    {
     "data": {
      "application/vnd.jupyter.widget-view+json": {
       "model_id": "d7d340d2e87f4e5999d8f8cce0c93a00",
       "version_major": 2,
       "version_minor": 0
      },
      "text/plain": [
       "VBox()"
      ]
     },
     "metadata": {},
     "output_type": "display_data"
    },
    {
     "data": {
      "application/vnd.jupyter.widget-view+json": {
       "model_id": "",
       "version_major": 2,
       "version_minor": 0
      },
      "text/plain": [
       "FloatProgress(value=0.0, bar_style='info', description='Progress:', layout=Layout(height='25px', width='50%'),…"
      ]
     },
     "metadata": {},
     "output_type": "display_data"
    }
   ],
   "source": [
    "df=spark.read.csv('s3://labsmolin19/COVID-19.csv',inferSchema=True,header=True)"
   ]
  },
  {
   "cell_type": "code",
   "execution_count": 48,
   "metadata": {},
   "outputs": [
    {
     "data": {
      "application/vnd.jupyter.widget-view+json": {
       "model_id": "bd78d4e2f2ab4c36941ef596dc5932ae",
       "version_major": 2,
       "version_minor": 0
      },
      "text/plain": [
       "VBox()"
      ]
     },
     "metadata": {},
     "output_type": "display_data"
    },
    {
     "data": {
      "application/vnd.jupyter.widget-view+json": {
       "model_id": "",
       "version_major": 2,
       "version_minor": 0
      },
      "text/plain": [
       "FloatProgress(value=0.0, bar_style='info', description='Progress:', layout=Layout(height='25px', width='50%'),…"
      ]
     },
     "metadata": {},
     "output_type": "display_data"
    },
    {
     "name": "stdout",
     "output_type": "stream",
     "text": [
      "['fecha reporte web', 'ID de caso', 'Fecha de notificación', 'Código DIVIPOLA departamento', 'Nombre departamento', 'Código DIVIPOLA municipio', 'Nombre municipio', 'Edad', 'Unidad de medida de edad', 'Sexo', 'Tipo de contagio', 'Ubicación del caso', 'Estado', 'Código ISO del país', 'Nombre del país', 'Recuperado', 'Fecha de inicio de síntomas', 'Fecha de muerte', 'Fecha de diagnóstico', 'Fecha de recuperación', 'Tipo de recuperación', 'Pertenencia étnica', 'Nombre del grupo étnico']"
     ]
    }
   ],
   "source": [
    "df.columns"
   ]
  },
  {
   "cell_type": "code",
   "execution_count": 49,
   "metadata": {},
   "outputs": [
    {
     "data": {
      "application/vnd.jupyter.widget-view+json": {
       "model_id": "8c3222832b13473e9787daebbc86a521",
       "version_major": 2,
       "version_minor": 0
      },
      "text/plain": [
       "VBox()"
      ]
     },
     "metadata": {},
     "output_type": "display_data"
    },
    {
     "data": {
      "application/vnd.jupyter.widget-view+json": {
       "model_id": "",
       "version_major": 2,
       "version_minor": 0
      },
      "text/plain": [
       "FloatProgress(value=0.0, bar_style='info', description='Progress:', layout=Layout(height='25px', width='50%'),…"
      ]
     },
     "metadata": {},
     "output_type": "display_data"
    }
   ],
   "source": [
    "#decido borrar todos los codigos ya que no me parecen importantes para hacer una consulta\n",
    "\n",
    "df_new=df.drop('Fecha de notificación','ID de caso','fecha reporte web', 'Código DIVIPOLA departamento', 'Código DIVIPOLA municipio', 'Código ISO del país', 'Pertenencia étnica', 'Nombre del grupo étnico' ,'Ubicación del caso', 'Estado', 'Nombre del país','Fecha de inicio de síntomas', 'Fecha de muerte', 'Fecha de diagnóstico', 'Fecha de recuperación', 'Tipo de recuperación')"
   ]
  },
  {
   "cell_type": "code",
   "execution_count": 50,
   "metadata": {},
   "outputs": [
    {
     "data": {
      "application/vnd.jupyter.widget-view+json": {
       "model_id": "23f547893e044206ab46676b8e1798ca",
       "version_major": 2,
       "version_minor": 0
      },
      "text/plain": [
       "VBox()"
      ]
     },
     "metadata": {},
     "output_type": "display_data"
    },
    {
     "data": {
      "application/vnd.jupyter.widget-view+json": {
       "model_id": "",
       "version_major": 2,
       "version_minor": 0
      },
      "text/plain": [
       "FloatProgress(value=0.0, bar_style='info', description='Progress:', layout=Layout(height='25px', width='50%'),…"
      ]
     },
     "metadata": {},
     "output_type": "display_data"
    },
    {
     "name": "stdout",
     "output_type": "stream",
     "text": [
      "['Nombre departamento', 'Nombre municipio', 'Edad', 'Unidad de medida de edad', 'Sexo', 'Tipo de contagio', 'Recuperado']"
     ]
    }
   ],
   "source": [
    "df_new.columns"
   ]
  },
  {
   "cell_type": "code",
   "execution_count": 51,
   "metadata": {},
   "outputs": [
    {
     "data": {
      "application/vnd.jupyter.widget-view+json": {
       "model_id": "0f42e758e4b24ab4b67fed196fc32e9a",
       "version_major": 2,
       "version_minor": 0
      },
      "text/plain": [
       "VBox()"
      ]
     },
     "metadata": {},
     "output_type": "display_data"
    },
    {
     "data": {
      "application/vnd.jupyter.widget-view+json": {
       "model_id": "",
       "version_major": 2,
       "version_minor": 0
      },
      "text/plain": [
       "FloatProgress(value=0.0, bar_style='info', description='Progress:', layout=Layout(height='25px', width='50%'),…"
      ]
     },
     "metadata": {},
     "output_type": "display_data"
    }
   ],
   "source": [
    "#agreago una nueva columna columna y las lleno con que fue examinado por smolin19\n",
    "df_new_column = df_new.withColumn(\"Examinado\", lit(\"Smolin19\"))"
   ]
  },
  {
   "cell_type": "code",
   "execution_count": 52,
   "metadata": {},
   "outputs": [
    {
     "data": {
      "application/vnd.jupyter.widget-view+json": {
       "model_id": "107db31782ec470a9c188d885e7b6e70",
       "version_major": 2,
       "version_minor": 0
      },
      "text/plain": [
       "VBox()"
      ]
     },
     "metadata": {},
     "output_type": "display_data"
    },
    {
     "data": {
      "application/vnd.jupyter.widget-view+json": {
       "model_id": "",
       "version_major": 2,
       "version_minor": 0
      },
      "text/plain": [
       "FloatProgress(value=0.0, bar_style='info', description='Progress:', layout=Layout(height='25px', width='50%'),…"
      ]
     },
     "metadata": {},
     "output_type": "display_data"
    },
    {
     "name": "stdout",
     "output_type": "stream",
     "text": [
      "['Nombre departamento', 'Nombre municipio', 'Edad', 'Unidad de medida de edad', 'Sexo', 'Tipo de contagio', 'Recuperado', 'Examinado']"
     ]
    }
   ],
   "source": [
    "df_new_column.columns"
   ]
  },
  {
   "cell_type": "code",
   "execution_count": 53,
   "metadata": {},
   "outputs": [
    {
     "data": {
      "application/vnd.jupyter.widget-view+json": {
       "model_id": "697ffb4bc59c413681f6eb493dbbe129",
       "version_major": 2,
       "version_minor": 0
      },
      "text/plain": [
       "VBox()"
      ]
     },
     "metadata": {},
     "output_type": "display_data"
    },
    {
     "data": {
      "application/vnd.jupyter.widget-view+json": {
       "model_id": "",
       "version_major": 2,
       "version_minor": 0
      },
      "text/plain": [
       "FloatProgress(value=0.0, bar_style='info', description='Progress:', layout=Layout(height='25px', width='50%'),…"
      ]
     },
     "metadata": {},
     "output_type": "display_data"
    },
    {
     "name": "stdout",
     "output_type": "stream",
     "text": [
      "+-------------------+----------------+----+------------------------+----+----------------+----------+---------+\n",
      "|Nombre departamento|Nombre municipio|Edad|Unidad de medida de edad|Sexo|Tipo de contagio|Recuperado|Examinado|\n",
      "+-------------------+----------------+----+------------------------+----+----------------+----------+---------+\n",
      "|             BOGOTA|          BOGOTA|  19|                       1|   F|       Importado|Recuperado| Smolin19|\n",
      "|              VALLE|            BUGA|  34|                       1|   M|       Importado|Recuperado| Smolin19|\n",
      "|          ANTIOQUIA|        MEDELLIN|  50|                       1|   F|       Importado|Recuperado| Smolin19|\n",
      "|          ANTIOQUIA|        MEDELLIN|  55|                       1|   M|     Relacionado|Recuperado| Smolin19|\n",
      "|          ANTIOQUIA|        MEDELLIN|  25|                       1|   M|     Relacionado|Recuperado| Smolin19|\n",
      "|          ANTIOQUIA|          ITAGUI|  27|                       1|   F|     Relacionado|Recuperado| Smolin19|\n",
      "|          CARTAGENA|       CARTAGENA|  85|                       1|   F|       Importado|Recuperado| Smolin19|\n",
      "|             BOGOTA|          BOGOTA|  22|                       1|   F|       Importado|Recuperado| Smolin19|\n",
      "|             BOGOTA|          BOGOTA|  28|                       1|   F|       Importado|Recuperado| Smolin19|\n",
      "|             BOGOTA|          BOGOTA|  36|                       1|   F|       Importado|Recuperado| Smolin19|\n",
      "|             BOGOTA|          BOGOTA|  42|                       1|   F|       Importado|Recuperado| Smolin19|\n",
      "|              HUILA|           NEIVA|  74|                       1|   F|       Importado|Recuperado| Smolin19|\n",
      "|              HUILA|           NEIVA|  68|                       1|   F|     Relacionado|Recuperado| Smolin19|\n",
      "|              VALLE|         PALMIRA|  48|                       1|   M|       Importado|Recuperado| Smolin19|\n",
      "|               META|   VILLAVICENCIO|  30|                       1|   F|       Importado|Recuperado| Smolin19|\n",
      "|             BOGOTA|          BOGOTA|  61|                       1|   F|       Importado|Recuperado| Smolin19|\n",
      "|             BOGOTA|          BOGOTA|  73|                       1|   F|       Importado|Recuperado| Smolin19|\n",
      "|             BOGOTA|          BOGOTA|  54|                       1|   M|       Importado|Recuperado| Smolin19|\n",
      "|             BOGOTA|          BOGOTA|  54|                       1|   F|     Relacionado|Recuperado| Smolin19|\n",
      "|          ANTIOQUIA|        MEDELLIN|  26|                       1|   F|     Relacionado|Recuperado| Smolin19|\n",
      "+-------------------+----------------+----+------------------------+----+----------------+----------+---------+\n",
      "only showing top 20 rows"
     ]
    }
   ],
   "source": [
    "df_new_column.show()"
   ]
  },
  {
   "cell_type": "code",
   "execution_count": 59,
   "metadata": {},
   "outputs": [
    {
     "data": {
      "application/vnd.jupyter.widget-view+json": {
       "model_id": "1cbdf1cf0ac2476d867cdef9097e285a",
       "version_major": 2,
       "version_minor": 0
      },
      "text/plain": [
       "VBox()"
      ]
     },
     "metadata": {},
     "output_type": "display_data"
    },
    {
     "data": {
      "application/vnd.jupyter.widget-view+json": {
       "model_id": "",
       "version_major": 2,
       "version_minor": 0
      },
      "text/plain": [
       "FloatProgress(value=0.0, bar_style='info', description='Progress:', layout=Layout(height='25px', width='50%'),…"
      ]
     },
     "metadata": {},
     "output_type": "display_data"
    },
    {
     "name": "stdout",
     "output_type": "stream",
     "text": [
      "+-------------------+----------------+----+------------------------+----+----------------+----------+---------+\n",
      "|Nombre departamento|Nombre municipio|Edad|Unidad de medida de edad|Sexo|Tipo de contagio|Recuperado|Examinado|\n",
      "+-------------------+----------------+----+------------------------+----+----------------+----------+---------+\n",
      "|          ANTIOQUIA|        MEDELLIN|  50|                       1|   F|       Importado|Recuperado| Smolin19|\n",
      "|          ANTIOQUIA|        MEDELLIN|  55|                       1|   M|     Relacionado|Recuperado| Smolin19|\n",
      "|          ANTIOQUIA|        MEDELLIN|  25|                       1|   M|     Relacionado|Recuperado| Smolin19|\n",
      "|          ANTIOQUIA|        MEDELLIN|  26|                       1|   F|     Relacionado|Recuperado| Smolin19|\n",
      "|          ANTIOQUIA|        MEDELLIN|  28|                       1|   M|     Relacionado|Recuperado| Smolin19|\n",
      "|          ANTIOQUIA|        MEDELLIN|  55|                       1|   M|       Importado|Recuperado| Smolin19|\n",
      "|          ANTIOQUIA|        MEDELLIN|  44|                       1|   M|       Importado|Recuperado| Smolin19|\n",
      "|          ANTIOQUIA|        MEDELLIN|  56|                       1|   M|       Importado|Recuperado| Smolin19|\n",
      "|          ANTIOQUIA|        MEDELLIN|  57|                       1|   F|       Importado|Recuperado| Smolin19|\n",
      "|          ANTIOQUIA|        MEDELLIN|  22|                       1|   F|       Importado|Recuperado| Smolin19|\n",
      "|          ANTIOQUIA|        MEDELLIN|  44|                       1|   F|       Importado|Recuperado| Smolin19|\n",
      "|          ANTIOQUIA|        MEDELLIN|  37|                       1|   M|     Relacionado|Recuperado| Smolin19|\n",
      "|          ANTIOQUIA|        MEDELLIN|  62|                       1|   F|       Importado|Recuperado| Smolin19|\n",
      "|          ANTIOQUIA|        MEDELLIN|  35|                       1|   F|       Importado|Recuperado| Smolin19|\n",
      "|          ANTIOQUIA|        MEDELLIN|  41|                       1|   M|       Importado|Recuperado| Smolin19|\n",
      "|          ANTIOQUIA|        MEDELLIN|  18|                       1|   F|     Relacionado|Recuperado| Smolin19|\n",
      "|          ANTIOQUIA|        MEDELLIN|  39|                       1|   M|       Importado|Recuperado| Smolin19|\n",
      "|          ANTIOQUIA|        MEDELLIN|  32|                       1|   M|       Importado|Recuperado| Smolin19|\n",
      "|          ANTIOQUIA|        MEDELLIN|  61|                       1|   F|       Importado|Recuperado| Smolin19|\n",
      "|          ANTIOQUIA|        MEDELLIN|  59|                       1|   M|       Importado|Recuperado| Smolin19|\n",
      "+-------------------+----------------+----+------------------------+----+----------------+----------+---------+\n",
      "only showing top 20 rows"
     ]
    }
   ],
   "source": [
    "df_new_column.filter(df_new_column['Nombre municipio']=='MEDELLIN').show()"
   ]
  },
  {
   "cell_type": "code",
   "execution_count": 60,
   "metadata": {},
   "outputs": [
    {
     "data": {
      "application/vnd.jupyter.widget-view+json": {
       "model_id": "fcbb8bb3ed8642d7b1777d5206a07c8b",
       "version_major": 2,
       "version_minor": 0
      },
      "text/plain": [
       "VBox()"
      ]
     },
     "metadata": {},
     "output_type": "display_data"
    },
    {
     "data": {
      "application/vnd.jupyter.widget-view+json": {
       "model_id": "",
       "version_major": 2,
       "version_minor": 0
      },
      "text/plain": [
       "FloatProgress(value=0.0, bar_style='info', description='Progress:', layout=Layout(height='25px', width='50%'),…"
      ]
     },
     "metadata": {},
     "output_type": "display_data"
    },
    {
     "name": "stdout",
     "output_type": "stream",
     "text": [
      "+----------+-------+\n",
      "|Recuperado|  count|\n",
      "+----------+-------+\n",
      "| Fallecido|  36288|\n",
      "|       N/A|   3016|\n",
      "| fallecido|    296|\n",
      "|Recuperado|1204452|\n",
      "|    Activo|  64324|\n",
      "+----------+-------+"
     ]
    }
   ],
   "source": [
    "df_new_column.groupBy('Recuperado').count().show()"
   ]
  },
  {
   "cell_type": "code",
   "execution_count": 63,
   "metadata": {},
   "outputs": [
    {
     "data": {
      "application/vnd.jupyter.widget-view+json": {
       "model_id": "3ef2c872d2f749eeb2b3a0c11b3a5d7f",
       "version_major": 2,
       "version_minor": 0
      },
      "text/plain": [
       "VBox()"
      ]
     },
     "metadata": {},
     "output_type": "display_data"
    },
    {
     "data": {
      "application/vnd.jupyter.widget-view+json": {
       "model_id": "",
       "version_major": 2,
       "version_minor": 0
      },
      "text/plain": [
       "FloatProgress(value=0.0, bar_style='info', description='Progress:', layout=Layout(height='25px', width='50%'),…"
      ]
     },
     "metadata": {},
     "output_type": "display_data"
    }
   ],
   "source": [
    "write_uri='s3://labsmolin19/casos_medellin'"
   ]
  },
  {
   "cell_type": "code",
   "execution_count": 64,
   "metadata": {},
   "outputs": [
    {
     "data": {
      "application/vnd.jupyter.widget-view+json": {
       "model_id": "5fdf413c2b794c9fa1ec8d2285540489",
       "version_major": 2,
       "version_minor": 0
      },
      "text/plain": [
       "VBox()"
      ]
     },
     "metadata": {},
     "output_type": "display_data"
    },
    {
     "data": {
      "application/vnd.jupyter.widget-view+json": {
       "model_id": "",
       "version_major": 2,
       "version_minor": 0
      },
      "text/plain": [
       "FloatProgress(value=0.0, bar_style='info', description='Progress:', layout=Layout(height='25px', width='50%'),…"
      ]
     },
     "metadata": {},
     "output_type": "display_data"
    }
   ],
   "source": [
    "df_new_column.filter(df_new_column['Nombre municipio']=='MEDELLIN').write.format(\"csv\").option(\"header\",\"true\").save(write_uri)"
   ]
  },
  {
   "cell_type": "code",
   "execution_count": null,
   "metadata": {},
   "outputs": [],
   "source": []
  }
 ],
 "metadata": {
  "kernelspec": {
   "display_name": "PySpark",
   "language": "",
   "name": "pysparkkernel"
  },
  "language_info": {
   "codemirror_mode": {
    "name": "python",
    "version": 2
   },
   "mimetype": "text/x-python",
   "name": "pyspark",
   "pygments_lexer": "python2"
  }
 },
 "nbformat": 4,
 "nbformat_minor": 4
}
